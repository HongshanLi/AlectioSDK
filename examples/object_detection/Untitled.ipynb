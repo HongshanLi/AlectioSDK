{
 "cells": [
  {
   "cell_type": "code",
   "execution_count": 10,
   "metadata": {},
   "outputs": [
    {
     "name": "stdout",
     "output_type": "stream",
     "text": [
      "(1, 3, 3)\n"
     ]
    },
    {
     "data": {
      "text/plain": [
       "(3, 3, 3)"
      ]
     },
     "execution_count": 10,
     "metadata": {},
     "output_type": "execute_result"
    }
   ],
   "source": [
    "import numpy as np\n",
    "x = np.arange(9).reshape(3, 3)\n",
    "x = np.expand_dims(x, 0)\n",
    "print(x.shape)\n",
    "y = np.repeat(x, 3, 0)\n",
    "y.shape"
   ]
  },
  {
   "cell_type": "code",
   "execution_count": 25,
   "metadata": {},
   "outputs": [
    {
     "data": {
      "text/plain": [
       "tensor([4, 5, 6, 6])"
      ]
     },
     "execution_count": 25,
     "metadata": {},
     "output_type": "execute_result"
    }
   ],
   "source": [
    "import torch\n",
    "x = torch.rand(3, 3).numpy()\n",
    "\n",
    "import torchvision.transforms as T\n",
    "y = T.ToTensor()(x)\n",
    "\n",
    "y = torch.LongTensor(range(80))\n",
    "\n",
    "\n",
    "'''\n",
    "\n",
    "'''\n",
    "label = torch.LongTensor([4, 5, 6])\n",
    "\n",
    "object_for_each_prior = torch.LongTensor([0, 1, 2, 2])\n",
    "label[object_for_each_prior] \n",
    "'''\n",
    "x[i] = label[i]\n",
    "\n",
    "'''"
   ]
  }
 ],
 "metadata": {
  "kernelspec": {
   "display_name": "Python 3",
   "language": "python",
   "name": "python3"
  },
  "language_info": {
   "codemirror_mode": {
    "name": "ipython",
    "version": 3
   },
   "file_extension": ".py",
   "mimetype": "text/x-python",
   "name": "python",
   "nbconvert_exporter": "python",
   "pygments_lexer": "ipython3",
   "version": "3.7.6"
  }
 },
 "nbformat": 4,
 "nbformat_minor": 4
}
