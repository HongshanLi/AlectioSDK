{
 "cells": [
  {
   "cell_type": "code",
   "execution_count": 1,
   "metadata": {},
   "outputs": [
    {
     "name": "stdout",
     "output_type": "stream",
     "text": [
      "(1, 3, 3)\n"
     ]
    },
    {
     "data": {
      "text/plain": [
       "(3, 3, 3)"
      ]
     },
     "execution_count": 1,
     "metadata": {},
     "output_type": "execute_result"
    }
   ],
   "source": [
    "import numpy as np\n",
    "x = np.arange(9).reshape(3, 3)\n",
    "x = np.expand_dims(x, 0)\n",
    "print(x.shape)\n",
    "y = np.repeat(x, 3, 0)\n",
    "y.shape"
   ]
  },
  {
   "cell_type": "code",
   "execution_count": 47,
   "metadata": {},
   "outputs": [],
   "source": [
    "import torch\n",
    "x = torch.rand(3, 3).numpy()\n",
    "\n",
    "import torchvision.transforms as T\n",
    "y = T.ToTensor()(x)\n",
    "\n",
    "y = torch.LongTensor(range(80))\n",
    "\n",
    "\n",
    "'''\n",
    "\n",
    "'''\n",
    "label = torch.LongTensor([4, 5, 6])\n",
    "\n",
    "object_for_each_prior = torch.LongTensor([0, 1, 2, 2])\n",
    "label[object_for_each_prior] \n",
    "'''\n",
    "x[i] = label[i]\n",
    "\n",
    "'''\n",
    "import numpy as np\n",
    "sx = np.arange(0, 100, 2)\n",
    "sy = np.arange(0, 100, 4) \n",
    "smx, smy = np.meshgrid(sx, sy)"
   ]
  },
  {
   "cell_type": "code",
   "execution_count": 48,
   "metadata": {},
   "outputs": [
    {
     "data": {
      "text/plain": [
       "array([ 0,  2,  4,  6,  8, 10, 12, 14, 16, 18, 20, 22, 24, 26, 28, 30, 32,\n",
       "       34, 36, 38, 40, 42, 44, 46, 48, 50, 52, 54, 56, 58, 60, 62, 64, 66,\n",
       "       68, 70, 72, 74, 76, 78, 80, 82, 84, 86, 88, 90, 92, 94, 96, 98])"
      ]
     },
     "execution_count": 48,
     "metadata": {},
     "output_type": "execute_result"
    }
   ],
   "source": [
    "sx"
   ]
  },
  {
   "cell_type": "code",
   "execution_count": 49,
   "metadata": {},
   "outputs": [
    {
     "data": {
      "text/plain": [
       "array([[ 0,  2,  4, ..., 94, 96, 98],\n",
       "       [ 0,  2,  4, ..., 94, 96, 98],\n",
       "       [ 0,  2,  4, ..., 94, 96, 98],\n",
       "       ...,\n",
       "       [ 0,  2,  4, ..., 94, 96, 98],\n",
       "       [ 0,  2,  4, ..., 94, 96, 98],\n",
       "       [ 0,  2,  4, ..., 94, 96, 98]])"
      ]
     },
     "execution_count": 49,
     "metadata": {},
     "output_type": "execute_result"
    }
   ],
   "source": [
    "smx"
   ]
  },
  {
   "cell_type": "code",
   "execution_count": 53,
   "metadata": {},
   "outputs": [
    {
     "data": {
      "text/plain": [
       "array([[ 0,  0,  0, ...,  0,  0,  0],\n",
       "       [ 4,  4,  4, ...,  4,  4,  4],\n",
       "       [ 8,  8,  8, ...,  8,  8,  8],\n",
       "       ...,\n",
       "       [88, 88, 88, ..., 88, 88, 88],\n",
       "       [92, 92, 92, ..., 92, 92, 92],\n",
       "       [96, 96, 96, ..., 96, 96, 96]])"
      ]
     },
     "execution_count": 53,
     "metadata": {},
     "output_type": "execute_result"
    }
   ],
   "source": [
    "smy"
   ]
  },
  {
   "cell_type": "code",
   "execution_count": 2,
   "metadata": {},
   "outputs": [
    {
     "data": {
      "text/plain": [
       "(28,)"
      ]
     },
     "execution_count": 2,
     "metadata": {},
     "output_type": "execute_result"
    }
   ],
   "source": [
    "np.arange(0, 416, 15).shape"
   ]
  },
  {
   "cell_type": "code",
   "execution_count": 10,
   "metadata": {},
   "outputs": [],
   "source": [
    "import torch\n",
    "x = torch.LongTensor([0, 1, 3])"
   ]
  },
  {
   "cell_type": "code",
   "execution_count": 18,
   "metadata": {},
   "outputs": [
    {
     "data": {
      "text/plain": [
       "tensor([[0., 0., 0.],\n",
       "        [0., 0., 0.],\n",
       "        [0., 0., 0.]])"
      ]
     },
     "execution_count": 18,
     "metadata": {},
     "output_type": "execute_result"
    }
   ],
   "source": [
    "x = torch.rand(3, 3)\n",
    "mask = (x > 0.5)\n",
    "x[mask] = 0\n",
    "x.fill_(0)"
   ]
  },
  {
   "cell_type": "code",
   "execution_count": 21,
   "metadata": {},
   "outputs": [
    {
     "data": {
      "text/plain": [
       "tensor([[[0.7311, 0.7311],\n",
       "         [0.7311, 0.7311],\n",
       "         [0.7311, 0.7311],\n",
       "         [0.7311, 0.7311],\n",
       "         [0.7311, 0.7311]],\n",
       "\n",
       "        [[0.7311, 0.7311],\n",
       "         [0.7311, 0.7311],\n",
       "         [0.7311, 0.7311],\n",
       "         [0.7311, 0.7311],\n",
       "         [0.7311, 0.7311]],\n",
       "\n",
       "        [[0.7311, 0.7311],\n",
       "         [0.7311, 0.7311],\n",
       "         [0.7311, 0.7311],\n",
       "         [0.7311, 0.7311],\n",
       "         [0.7311, 0.7311]],\n",
       "\n",
       "        [[0.7311, 0.7311],\n",
       "         [0.7311, 0.7311],\n",
       "         [0.7311, 0.7311],\n",
       "         [0.7311, 0.7311],\n",
       "         [0.7311, 0.7311]],\n",
       "\n",
       "        [[0.7311, 0.7311],\n",
       "         [0.7311, 0.7311],\n",
       "         [0.7311, 0.7311],\n",
       "         [0.7311, 0.7311],\n",
       "         [0.7311, 0.7311]]])"
      ]
     },
     "execution_count": 21,
     "metadata": {},
     "output_type": "execute_result"
    }
   ],
   "source": [
    "x = torch.ones(5, 5, 5)\n",
    "torch.sigmoid(x[...,:2])"
   ]
  }
 ],
 "metadata": {
  "kernelspec": {
   "display_name": "Python 3",
   "language": "python",
   "name": "python3"
  },
  "language_info": {
   "codemirror_mode": {
    "name": "ipython",
    "version": 3
   },
   "file_extension": ".py",
   "mimetype": "text/x-python",
   "name": "python",
   "nbconvert_exporter": "python",
   "pygments_lexer": "ipython3",
   "version": "3.7.6"
  }
 },
 "nbformat": 4,
 "nbformat_minor": 4
}
